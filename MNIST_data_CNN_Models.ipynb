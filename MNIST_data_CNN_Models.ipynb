{
  "nbformat": 4,
  "nbformat_minor": 0,
  "metadata": {
    "colab": {
      "name": "MNIST_data_CNN_Models.ipynb",
      "provenance": [],
      "collapsed_sections": [],
      "authorship_tag": "ABX9TyNw/JfnMNcon4w6bzMfHKdC",
      "include_colab_link": true
    },
    "kernelspec": {
      "name": "python3",
      "display_name": "Python 3"
    },
    "language_info": {
      "name": "python"
    }
  },
  "cells": [
    {
      "cell_type": "markdown",
      "metadata": {
        "id": "view-in-github",
        "colab_type": "text"
      },
      "source": [
        "<a href=\"https://colab.research.google.com/github/getBrijendra/ComputerVisionModels/blob/main/MNIST_data_CNN_Models.ipynb\" target=\"_parent\"><img src=\"https://colab.research.google.com/assets/colab-badge.svg\" alt=\"Open In Colab\"/></a>"
      ]
    },
    {
      "cell_type": "code",
      "metadata": {
        "colab": {
          "base_uri": "https://localhost:8080/"
        },
        "id": "Z0_eJLorZONz",
        "outputId": "e910efb5-59e0-4182-e8f3-cd6c4de7baa5"
      },
      "source": [
        "import tensorflow as tf\n",
        "import numpy as np\n",
        "import matplotlib.pyplot as plt\n",
        "\n",
        "print(tf.__version__)"
      ],
      "execution_count": 1,
      "outputs": [
        {
          "output_type": "stream",
          "name": "stdout",
          "text": [
            "2.6.0\n"
          ]
        }
      ]
    },
    {
      "cell_type": "code",
      "metadata": {
        "colab": {
          "base_uri": "https://localhost:8080/"
        },
        "id": "IObyeBLHaPeE",
        "outputId": "d61a852a-db69-4036-cd24-410792e02c5e"
      },
      "source": [
        "data = tf.keras.datasets.fashion_mnist\n",
        "(X_train, y_train), (X_validation, y_validation) = data.load_data()\n",
        "print(X_train.shape[0])\n",
        "# y_train.shape\n",
        "# X_validation.shape\n",
        "# y_validation.shape"
      ],
      "execution_count": 36,
      "outputs": [
        {
          "output_type": "stream",
          "name": "stdout",
          "text": [
            "60000\n"
          ]
        }
      ]
    },
    {
      "cell_type": "code",
      "metadata": {
        "colab": {
          "base_uri": "https://localhost:8080/"
        },
        "id": "4dwCiGlT3ViI",
        "outputId": "932b7755-dce0-4462-f3ac-95f019afcc31"
      },
      "source": [
        "print(X_train.shape)"
      ],
      "execution_count": 37,
      "outputs": [
        {
          "output_type": "stream",
          "name": "stdout",
          "text": [
            "(60000, 28, 28)\n"
          ]
        }
      ]
    },
    {
      "cell_type": "code",
      "metadata": {
        "id": "Mhi2Rzb75rOc"
      },
      "source": [
        "X_train , X_validation = X_train/255.0, X_validation/255.0"
      ],
      "execution_count": 38,
      "outputs": []
    },
    {
      "cell_type": "code",
      "metadata": {
        "id": "liqbBQsC6WP6"
      },
      "source": [
        "def reshape_data(data, size):\n",
        "  data = np.array(data)\n",
        "  data = data.reshape(size, 28, 28, 1)\n",
        "  return data"
      ],
      "execution_count": 39,
      "outputs": []
    },
    {
      "cell_type": "code",
      "metadata": {
        "colab": {
          "base_uri": "https://localhost:8080/"
        },
        "id": "8VIE_7puYT0o",
        "outputId": "f452d5d8-c88d-4795-8543-ea22f37c30f0"
      },
      "source": [
        " X_validation.shape[0]"
      ],
      "execution_count": 53,
      "outputs": [
        {
          "output_type": "execute_result",
          "data": {
            "text/plain": [
              "10000"
            ]
          },
          "metadata": {},
          "execution_count": 53
        }
      ]
    },
    {
      "cell_type": "code",
      "metadata": {
        "id": "43XTUZSg63Bn"
      },
      "source": [
        "X_train = reshape_data(X_train, X_train.shape[0])\n",
        "X_validation = reshape_data(X_validation, X_validation.shape[0])"
      ],
      "execution_count": 54,
      "outputs": []
    },
    {
      "cell_type": "code",
      "metadata": {
        "id": "TQ2O-hpNYF1S"
      },
      "source": [
        "from tensorflow.keras.models import Sequential\n",
        "from tensorflow.keras.layers import Conv2D, MaxPooling2D, Flatten, Dense, Dropout\n",
        "from keras.callbacks import ModelCheckpoint   "
      ],
      "execution_count": 63,
      "outputs": []
    },
    {
      "cell_type": "markdown",
      "metadata": {
        "id": "G8Nsa2rkoCaO"
      },
      "source": [
        "**MODEL 1**"
      ]
    },
    {
      "cell_type": "code",
      "metadata": {
        "colab": {
          "base_uri": "https://localhost:8080/"
        },
        "id": "r1AiHd-WYC7Z",
        "outputId": "267b6f97-2000-4ebc-b1ce-3c93d7343bac"
      },
      "source": [
        "model = tf.keras.Sequential()\n",
        "# Must define the input shape in the first layer of the neural network\n",
        "model.add(tf.keras.layers.Conv2D(filters=64, kernel_size=2, padding='same', activation='relu', input_shape=(28,28,1))) \n",
        "model.add(tf.keras.layers.MaxPooling2D(pool_size=2))\n",
        "model.add(tf.keras.layers.Dropout(0.3))\n",
        "model.add(tf.keras.layers.Conv2D(filters=32, kernel_size=2, padding='same', activation='relu'))\n",
        "model.add(tf.keras.layers.MaxPooling2D(pool_size=2))\n",
        "model.add(tf.keras.layers.Dropout(0.3))\n",
        "model.add(tf.keras.layers.Flatten())\n",
        "model.add(tf.keras.layers.Dense(256, activation='relu'))\n",
        "model.add(tf.keras.layers.Dropout(0.5))\n",
        "model.add(tf.keras.layers.Dense(10, activation='softmax'))\n",
        "# Take a look at the model summary\n",
        "model.summary()"
      ],
      "execution_count": 64,
      "outputs": [
        {
          "output_type": "stream",
          "name": "stdout",
          "text": [
            "Model: \"sequential_11\"\n",
            "_________________________________________________________________\n",
            "Layer (type)                 Output Shape              Param #   \n",
            "=================================================================\n",
            "conv2d_29 (Conv2D)           (None, 28, 28, 64)        320       \n",
            "_________________________________________________________________\n",
            "max_pooling2d_29 (MaxPooling (None, 14, 14, 64)        0         \n",
            "_________________________________________________________________\n",
            "dropout_3 (Dropout)          (None, 14, 14, 64)        0         \n",
            "_________________________________________________________________\n",
            "conv2d_30 (Conv2D)           (None, 14, 14, 32)        8224      \n",
            "_________________________________________________________________\n",
            "max_pooling2d_30 (MaxPooling (None, 7, 7, 32)          0         \n",
            "_________________________________________________________________\n",
            "dropout_4 (Dropout)          (None, 7, 7, 32)          0         \n",
            "_________________________________________________________________\n",
            "flatten_10 (Flatten)         (None, 1568)              0         \n",
            "_________________________________________________________________\n",
            "dense_20 (Dense)             (None, 256)               401664    \n",
            "_________________________________________________________________\n",
            "dropout_5 (Dropout)          (None, 256)               0         \n",
            "_________________________________________________________________\n",
            "dense_21 (Dense)             (None, 10)                2570      \n",
            "=================================================================\n",
            "Total params: 412,778\n",
            "Trainable params: 412,778\n",
            "Non-trainable params: 0\n",
            "_________________________________________________________________\n"
          ]
        }
      ]
    },
    {
      "cell_type": "code",
      "metadata": {
        "colab": {
          "base_uri": "https://localhost:8080/"
        },
        "id": "5bfuqgTIY_3Y",
        "outputId": "7d8a4ddb-602b-4c58-c868-171f4e55bcce"
      },
      "source": [
        "\n",
        "\n",
        "model.compile(loss='sparse_categorical_crossentropy', optimizer='adam', metrics=['accuracy'])\n",
        "checkpointer = ModelCheckpoint(filepath='model.weights.best.hdf5', verbose=1, save_best_only=True)\n",
        "\n",
        "history = model.fit(X_train, y_train, batch_size=64, epochs=2, validation_data=(X_validation, y_validation), callbacks=[checkpointer])"
      ],
      "execution_count": 65,
      "outputs": [
        {
          "output_type": "stream",
          "name": "stdout",
          "text": [
            "Epoch 1/2\n",
            "938/938 [==============================] - 77s 81ms/step - loss: 0.5974 - accuracy: 0.7787 - val_loss: 0.3874 - val_accuracy: 0.8565\n",
            "\n",
            "Epoch 00001: val_loss improved from inf to 0.38743, saving model to model.weights.best.hdf5\n",
            "Epoch 2/2\n",
            "938/938 [==============================] - 76s 81ms/step - loss: 0.4176 - accuracy: 0.8472 - val_loss: 0.3409 - val_accuracy: 0.8789\n",
            "\n",
            "Epoch 00002: val_loss improved from 0.38743 to 0.34094, saving model to model.weights.best.hdf5\n"
          ]
        }
      ]
    },
    {
      "cell_type": "markdown",
      "metadata": {
        "id": "PUYRB_Jsq8ug"
      },
      "source": [
        "**MODEL 2**"
      ]
    },
    {
      "cell_type": "code",
      "metadata": {
        "id": "tkd_BFlwb1NH",
        "colab": {
          "base_uri": "https://localhost:8080/"
        },
        "outputId": "74cdc952-6d01-4d6e-9501-162c4e51d572"
      },
      "source": [
        "\n",
        "model1 = tf.keras.models.Sequential()\n",
        "model1.add(Conv2D(filters=64, kernel_size=(2,2), padding='same', activation='relu', input_shape=(28, 28, 1)))\n",
        "model1.add(MaxPooling2D(pool_size=(2, 2), padding='same', strides=1))\n",
        "model1.add(Conv2D(filters=128, kernel_size=2, padding='same', activation='tanh'))\n",
        "model1.add(MaxPooling2D(pool_size=(2, 2), padding='same'))\n",
        "model1.add(Conv2D(filters=128, kernel_size=2, padding='same', activation='relu'))\n",
        "model1.add(MaxPooling2D(pool_size=(2, 2), strides=(1, 1), padding='same'))\n",
        "model1.add(Flatten())\n",
        "model1.add(Dense(64, activation='relu'))\n",
        "model1.add(Dense(10, activation='softmax'))\n",
        "model1.summary()"
      ],
      "execution_count": 66,
      "outputs": [
        {
          "output_type": "stream",
          "name": "stdout",
          "text": [
            "Model: \"sequential_12\"\n",
            "_________________________________________________________________\n",
            "Layer (type)                 Output Shape              Param #   \n",
            "=================================================================\n",
            "conv2d_31 (Conv2D)           (None, 28, 28, 64)        320       \n",
            "_________________________________________________________________\n",
            "max_pooling2d_31 (MaxPooling (None, 28, 28, 64)        0         \n",
            "_________________________________________________________________\n",
            "conv2d_32 (Conv2D)           (None, 28, 28, 128)       32896     \n",
            "_________________________________________________________________\n",
            "max_pooling2d_32 (MaxPooling (None, 14, 14, 128)       0         \n",
            "_________________________________________________________________\n",
            "conv2d_33 (Conv2D)           (None, 14, 14, 128)       65664     \n",
            "_________________________________________________________________\n",
            "max_pooling2d_33 (MaxPooling (None, 14, 14, 128)       0         \n",
            "_________________________________________________________________\n",
            "flatten_11 (Flatten)         (None, 25088)             0         \n",
            "_________________________________________________________________\n",
            "dense_22 (Dense)             (None, 64)                1605696   \n",
            "_________________________________________________________________\n",
            "dense_23 (Dense)             (None, 10)                650       \n",
            "=================================================================\n",
            "Total params: 1,705,226\n",
            "Trainable params: 1,705,226\n",
            "Non-trainable params: 0\n",
            "_________________________________________________________________\n"
          ]
        }
      ]
    },
    {
      "cell_type": "code",
      "metadata": {
        "colab": {
          "base_uri": "https://localhost:8080/"
        },
        "id": "LgKDCiXOC6Yv",
        "outputId": "5c7a9649-2f6b-4357-db36-b0d2aed453a0"
      },
      "source": [
        "model1.compile(loss='sparse_categorical_crossentropy', optimizer='adam', metrics=['accuracy'])\n",
        "checkpointer = ModelCheckpoint(filepath='model1.weights.best.hdf5', verbose=1, save_best_only=True)\n",
        "\n",
        "history = model1.fit(X_train, y_train, batch_size=64, epochs=2, validation_data=(X_validation, y_validation), callbacks=[checkpointer])"
      ],
      "execution_count": 67,
      "outputs": [
        {
          "output_type": "stream",
          "name": "stdout",
          "text": [
            "Epoch 1/2\n",
            "938/938 [==============================] - 467s 497ms/step - loss: 0.3882 - accuracy: 0.8618 - val_loss: 0.3130 - val_accuracy: 0.8892\n",
            "\n",
            "Epoch 00001: val_loss improved from inf to 0.31303, saving model to model1.weights.best.hdf5\n",
            "Epoch 2/2\n",
            "938/938 [==============================] - 466s 497ms/step - loss: 0.2494 - accuracy: 0.9098 - val_loss: 0.2871 - val_accuracy: 0.8909\n",
            "\n",
            "Epoch 00002: val_loss improved from 0.31303 to 0.28712, saving model to model1.weights.best.hdf5\n"
          ]
        }
      ]
    },
    {
      "cell_type": "markdown",
      "metadata": {
        "id": "vyIl5B67q2bX"
      },
      "source": [
        "**MODEL 3**"
      ]
    },
    {
      "cell_type": "code",
      "metadata": {
        "colab": {
          "base_uri": "https://localhost:8080/"
        },
        "id": "O39LJ-Toqh1E",
        "outputId": "a58a55d7-b297-471a-b74d-1b8284aa648f"
      },
      "source": [
        "model2 = tf.keras.models.Sequential()\n",
        "model2.add(Conv2D(filters=64, kernel_size=(3,3), activation='relu', input_shape=(28, 28, 1)))\n",
        "model2.add(MaxPooling2D(pool_size=(2, 2)))\n",
        "model2.add(Conv2D(filters=128, kernel_size=2, padding='same', activation='relu'))\n",
        "model2.add(MaxPooling2D(pool_size=(2, 2), padding='same'))\n",
        "model2.add(Conv2D(filters=128, kernel_size=2, padding='same', activation='relu'))\n",
        "model2.add(MaxPooling2D(pool_size=(2, 2), strides=(1, 1), padding='same'))\n",
        "model2.add(Flatten())\n",
        "model2.add(Dense(128, activation='relu'))\n",
        "model2.add(Dense(10, activation='softmax'))\n",
        "model2.summary()"
      ],
      "execution_count": 68,
      "outputs": [
        {
          "output_type": "stream",
          "name": "stdout",
          "text": [
            "Model: \"sequential_13\"\n",
            "_________________________________________________________________\n",
            "Layer (type)                 Output Shape              Param #   \n",
            "=================================================================\n",
            "conv2d_34 (Conv2D)           (None, 26, 26, 64)        640       \n",
            "_________________________________________________________________\n",
            "max_pooling2d_34 (MaxPooling (None, 13, 13, 64)        0         \n",
            "_________________________________________________________________\n",
            "conv2d_35 (Conv2D)           (None, 13, 13, 128)       32896     \n",
            "_________________________________________________________________\n",
            "max_pooling2d_35 (MaxPooling (None, 7, 7, 128)         0         \n",
            "_________________________________________________________________\n",
            "conv2d_36 (Conv2D)           (None, 7, 7, 128)         65664     \n",
            "_________________________________________________________________\n",
            "max_pooling2d_36 (MaxPooling (None, 7, 7, 128)         0         \n",
            "_________________________________________________________________\n",
            "flatten_12 (Flatten)         (None, 6272)              0         \n",
            "_________________________________________________________________\n",
            "dense_24 (Dense)             (None, 128)               802944    \n",
            "_________________________________________________________________\n",
            "dense_25 (Dense)             (None, 10)                1290      \n",
            "=================================================================\n",
            "Total params: 903,434\n",
            "Trainable params: 903,434\n",
            "Non-trainable params: 0\n",
            "_________________________________________________________________\n"
          ]
        }
      ]
    },
    {
      "cell_type": "code",
      "metadata": {
        "colab": {
          "base_uri": "https://localhost:8080/"
        },
        "id": "8YEIPav-xW-b",
        "outputId": "c8dee55f-f729-4551-ef07-c68aed379442"
      },
      "source": [
        "model2.compile(loss='sparse_categorical_crossentropy', optimizer='adam', metrics=['accuracy'])\n",
        "checkpointer = ModelCheckpoint(filepath='model2.weights.best.hdf5', verbose=1, save_best_only=True)\n",
        "history = model2.fit(X_train, y_train, batch_size=64, epochs=2, validation_data=(X_validation, y_validation), callbacks=[checkpointer])"
      ],
      "execution_count": 69,
      "outputs": [
        {
          "output_type": "stream",
          "name": "stdout",
          "text": [
            "Epoch 1/2\n",
            "938/938 [==============================] - 129s 137ms/step - loss: 0.4427 - accuracy: 0.8381 - val_loss: 0.3533 - val_accuracy: 0.8708\n",
            "\n",
            "Epoch 00001: val_loss improved from inf to 0.35326, saving model to model2.weights.best.hdf5\n",
            "Epoch 2/2\n",
            "938/938 [==============================] - 127s 136ms/step - loss: 0.2816 - accuracy: 0.8973 - val_loss: 0.2792 - val_accuracy: 0.8983\n",
            "\n",
            "Epoch 00002: val_loss improved from 0.35326 to 0.27923, saving model to model2.weights.best.hdf5\n"
          ]
        }
      ]
    },
    {
      "cell_type": "code",
      "metadata": {
        "id": "W-4n1KJUCoF4"
      },
      "source": [
        "plt.plot(history.history['accuracy'], label='accuracy')\n",
        "plt.plot(history.history['val_accuracy'], label = 'val_accuracy')\n",
        "plt.xlabel('Epoch')\n",
        "plt.ylabel('Accuracy')\n",
        "plt.ylim([0.5, 1])\n",
        "plt.legend(loc='lower right')\n",
        "\n",
        "test_loss, test_acc = model.evaluate(test_images,  test_labels, verbose=2)"
      ],
      "execution_count": null,
      "outputs": []
    },
    {
      "cell_type": "markdown",
      "metadata": {
        "id": "9NN3rwfVyoAG"
      },
      "source": [
        "\n",
        "\n",
        "---\n",
        "\n"
      ]
    }
  ]
}